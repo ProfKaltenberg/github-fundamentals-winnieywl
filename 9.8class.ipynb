{
 "cells": [
  {
   "cell_type": "markdown",
   "id": "28f5bf59",
   "metadata": {},
   "source": [
    "**ECO590**  \n",
    "\n",
    "- this is a bullet point\n",
    "\n",
    "<font size=\"4\">your_text_here</font>\n",
    "\n",
    "\n",
    "\n",
    "Hi my name is Winnie.  "
   ]
  },
  {
   "cell_type": "code",
   "execution_count": 1,
   "id": "87415b3d",
   "metadata": {},
   "outputs": [],
   "source": [
    "import pandas as pd"
   ]
  },
  {
   "cell_type": "markdown",
   "id": "beb3fa6c",
   "metadata": {},
   "source": [
    "<font size=\"10\">**Ultimate QE**</font>\n",
    "![Ultimate QE](https://media.giphy.com/media/Y2ZUWLrTy63j9T6qrK/giphy.gif)"
   ]
  },
  {
   "cell_type": "code",
   "execution_count": 4,
   "id": "d8c05c3a",
   "metadata": {},
   "outputs": [
    {
     "data": {
      "text/plain": [
       "15"
      ]
     },
     "execution_count": 4,
     "metadata": {},
     "output_type": "execute_result"
    }
   ],
   "source": [
    "print(4 - 1)\n",
    "print(5*3)"
   ]
  },
  {
   "cell_type": "code",
   "execution_count": null,
   "id": "66c34bab",
   "metadata": {},
   "outputs": [],
   "source": [
    "# key esc+m change to markdowns\n",
    "# key esc+y change to coding"
   ]
  },
  {
   "cell_type": "code",
   "execution_count": 5,
   "id": "ae18d74c",
   "metadata": {},
   "outputs": [],
   "source": [
    "import numpy as np"
   ]
  }
 ],
 "metadata": {
  "kernelspec": {
   "display_name": "Python 3",
   "language": "python",
   "name": "python3"
  },
  "language_info": {
   "codemirror_mode": {
    "name": "ipython",
    "version": 3
   },
   "file_extension": ".py",
   "mimetype": "text/x-python",
   "name": "python",
   "nbconvert_exporter": "python",
   "pygments_lexer": "ipython3",
   "version": "3.8.8"
  }
 },
 "nbformat": 4,
 "nbformat_minor": 5
}
